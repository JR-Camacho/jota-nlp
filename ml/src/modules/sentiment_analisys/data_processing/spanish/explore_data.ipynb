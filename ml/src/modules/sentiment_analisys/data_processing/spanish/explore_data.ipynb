{
 "cells": [
  {
   "cell_type": "markdown",
   "metadata": {},
   "source": [
    "Explore data"
   ]
  },
  {
   "cell_type": "code",
   "execution_count": 2,
   "metadata": {
    "ExecuteTime": {
     "end_time": "2023-07-31T01:52:26.800501Z",
     "start_time": "2023-07-31T01:52:25.955113Z"
    }
   },
   "outputs": [],
   "source": [
    "#Libraries\n",
    "import pandas as pd"
   ]
  },
  {
   "cell_type": "code",
   "execution_count": 9,
   "metadata": {
    "ExecuteTime": {
     "end_time": "2023-07-31T01:59:11.847950Z",
     "start_time": "2023-07-31T01:59:09.986197Z"
    }
   },
   "outputs": [],
   "source": [
    "#Load the data\n",
    "\n",
    "#train data \n",
    "data = pd.read_csv(\n",
    "    \"../../../../../data/raw/tweets-data/spanish/train.csv\",\n",
    "    engine=\"python\",\n",
    "    encoding=\"latin1\"\n",
    ")"
   ]
  },
  {
   "cell_type": "code",
   "execution_count": 10,
   "metadata": {
    "ExecuteTime": {
     "end_time": "2023-07-31T01:59:13.895225Z",
     "start_time": "2023-07-31T01:59:13.866427Z"
    }
   },
   "outputs": [
    {
     "data": {
      "text/plain": "           tweet_date_created             tweet_id  \\\n0  2018-08-08T13:09:15.489000  1027179935184703489   \n1  2018-08-08T18:27:37.320000  1027260056092344320   \n2  2018-08-12T14:59:31.520000  1028657238116843520   \n3  2018-08-04T13:23:30.257000  1025733971320160257   \n4  2018-07-28T11:21:06.480000  1023166450981396480   \n\n                                          tweet_text language sentiment  \\\n0  Alisson puede estar más tranquilo, no cargará ...       es  POSITIVE   \n1  @iPincheViky @ChelseaFC Es que el director eje...       es   NEUTRAL   \n2  Upto £100 #freebets &gt; https://t.co/cbjeMXI9...       es   NEUTRAL   \n3  Bobby Duncan, primo de Steven Gerrard, deja la...       es   NEUTRAL   \n4  @TorreiraForeva @lepvtron @Arsenal @IntChampio...       es   NEUTRAL   \n\n                                     sentiment_score  \n0  {\"Neutral\":0.082259356975555419921875,\"Negativ...  \n1  {\"Neutral\":0.827011644840240478515625,\"Negativ...  \n2  {\"Neutral\":0.930982112884521484375,\"Negative\":...  \n3  {\"Neutral\":0.906872212886810302734375,\"Negativ...  \n4  {\"Neutral\":0.942405760288238525390625,\"Negativ...  ",
      "text/html": "<div>\n<style scoped>\n    .dataframe tbody tr th:only-of-type {\n        vertical-align: middle;\n    }\n\n    .dataframe tbody tr th {\n        vertical-align: top;\n    }\n\n    .dataframe thead th {\n        text-align: right;\n    }\n</style>\n<table border=\"1\" class=\"dataframe\">\n  <thead>\n    <tr style=\"text-align: right;\">\n      <th></th>\n      <th>tweet_date_created</th>\n      <th>tweet_id</th>\n      <th>tweet_text</th>\n      <th>language</th>\n      <th>sentiment</th>\n      <th>sentiment_score</th>\n    </tr>\n  </thead>\n  <tbody>\n    <tr>\n      <th>0</th>\n      <td>2018-08-08T13:09:15.489000</td>\n      <td>1027179935184703489</td>\n      <td>Alisson puede estar más tranquilo, no cargará ...</td>\n      <td>es</td>\n      <td>POSITIVE</td>\n      <td>{\"Neutral\":0.082259356975555419921875,\"Negativ...</td>\n    </tr>\n    <tr>\n      <th>1</th>\n      <td>2018-08-08T18:27:37.320000</td>\n      <td>1027260056092344320</td>\n      <td>@iPincheViky @ChelseaFC Es que el director eje...</td>\n      <td>es</td>\n      <td>NEUTRAL</td>\n      <td>{\"Neutral\":0.827011644840240478515625,\"Negativ...</td>\n    </tr>\n    <tr>\n      <th>2</th>\n      <td>2018-08-12T14:59:31.520000</td>\n      <td>1028657238116843520</td>\n      <td>Upto £100 #freebets &amp;gt; https://t.co/cbjeMXI9...</td>\n      <td>es</td>\n      <td>NEUTRAL</td>\n      <td>{\"Neutral\":0.930982112884521484375,\"Negative\":...</td>\n    </tr>\n    <tr>\n      <th>3</th>\n      <td>2018-08-04T13:23:30.257000</td>\n      <td>1025733971320160257</td>\n      <td>Bobby Duncan, primo de Steven Gerrard, deja la...</td>\n      <td>es</td>\n      <td>NEUTRAL</td>\n      <td>{\"Neutral\":0.906872212886810302734375,\"Negativ...</td>\n    </tr>\n    <tr>\n      <th>4</th>\n      <td>2018-07-28T11:21:06.480000</td>\n      <td>1023166450981396480</td>\n      <td>@TorreiraForeva @lepvtron @Arsenal @IntChampio...</td>\n      <td>es</td>\n      <td>NEUTRAL</td>\n      <td>{\"Neutral\":0.942405760288238525390625,\"Negativ...</td>\n    </tr>\n  </tbody>\n</table>\n</div>"
     },
     "execution_count": 10,
     "metadata": {},
     "output_type": "execute_result"
    }
   ],
   "source": [
    "data.head(5)"
   ]
  },
  {
   "cell_type": "code",
   "execution_count": 15,
   "outputs": [
    {
     "data": {
      "text/plain": "'@ImagenTVDeporte @PabloCarrilloL @CH14_ @WestHamUtd @WestHamEspanol vamos a ver si el demuestra que puede ser bueno, cuando le dan confianza'"
     },
     "execution_count": 15,
     "metadata": {},
     "output_type": "execute_result"
    }
   ],
   "source": [
    "data['tweet_text'][40]"
   ],
   "metadata": {
    "collapsed": false,
    "ExecuteTime": {
     "end_time": "2023-07-31T02:00:28.089515Z",
     "start_time": "2023-07-31T02:00:28.071653Z"
    }
   }
  },
  {
   "cell_type": "code",
   "execution_count": 5,
   "outputs": [
    {
     "data": {
      "text/plain": "132707"
     },
     "execution_count": 5,
     "metadata": {},
     "output_type": "execute_result"
    }
   ],
   "source": [
    "len(data)"
   ],
   "metadata": {
    "collapsed": false,
    "ExecuteTime": {
     "end_time": "2023-07-31T01:53:27.172507Z",
     "start_time": "2023-07-31T01:53:27.152719Z"
    }
   }
  }
 ],
 "metadata": {
  "kernelspec": {
   "display_name": "venv",
   "language": "python",
   "name": "python3"
  },
  "language_info": {
   "codemirror_mode": {
    "name": "ipython",
    "version": 3
   },
   "file_extension": ".py",
   "mimetype": "text/x-python",
   "name": "python",
   "nbconvert_exporter": "python",
   "pygments_lexer": "ipython3",
   "version": "3.11.4"
  },
  "orig_nbformat": 4
 },
 "nbformat": 4,
 "nbformat_minor": 2
}
