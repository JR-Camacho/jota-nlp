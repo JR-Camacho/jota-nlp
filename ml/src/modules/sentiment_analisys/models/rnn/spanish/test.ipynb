{
 "cells": [
  {
   "cell_type": "markdown",
   "source": [
    "Testing the model"
   ],
   "metadata": {
    "collapsed": false
   }
  },
  {
   "cell_type": "code",
   "execution_count": 1,
   "outputs": [
    {
     "name": "stderr",
     "output_type": "stream",
     "text": [
      "2023-07-31 11:16:25.393929: I tensorflow/core/platform/cpu_feature_guard.cc:182] This TensorFlow binary is optimized to use available CPU instructions in performance-critical operations.\n",
      "To enable the following instructions: AVX2 FMA, in other operations, rebuild TensorFlow with the appropriate compiler flags.\n"
     ]
    }
   ],
   "source": [
    "import numpy as np\n",
    "import tensorflow as tf\n",
    "import joblib"
   ],
   "metadata": {
    "collapsed": false,
    "ExecuteTime": {
     "end_time": "2023-07-31T15:16:37.541575Z",
     "start_time": "2023-07-31T15:16:16.393077Z"
    }
   }
  },
  {
   "cell_type": "code",
   "execution_count": 2,
   "outputs": [],
   "source": [
    "#Load the tokenizer\n",
    "TOKENIZER_PATH = '../../../../../../exports/sentiment_analysis/tokenizers/spanish/tokenizer.pkl'\n",
    "tokenizer = joblib.load(TOKENIZER_PATH)"
   ],
   "metadata": {
    "collapsed": false,
    "ExecuteTime": {
     "end_time": "2023-07-31T15:16:41.341091Z",
     "start_time": "2023-07-31T15:16:37.546382Z"
    }
   }
  },
  {
   "cell_type": "code",
   "execution_count": 4,
   "outputs": [],
   "source": [
    "MODEL_PATH = '../../../../../../models/sentiment_analysis/rnn/spanish/sentiment_analysis_spanish.h5'\n",
    "model = tf.keras.models.load_model(MODEL_PATH)"
   ],
   "metadata": {
    "collapsed": false,
    "ExecuteTime": {
     "end_time": "2023-07-31T15:17:19.668021Z",
     "start_time": "2023-07-31T15:17:15.707613Z"
    }
   }
  },
  {
   "cell_type": "code",
   "execution_count": 31,
   "outputs": [
    {
     "name": "stdout",
     "output_type": "stream",
     "text": [
      "1/1 [==============================] - 0s 30ms/step\n"
     ]
    },
    {
     "data": {
      "text/plain": "array([[9.9717098e-01, 2.2127477e-03, 7.2973227e-05, 5.4326700e-04]],\n      dtype=float32)"
     },
     "execution_count": 31,
     "metadata": {},
     "output_type": "execute_result"
    }
   ],
   "source": [
    "model.predict(np.array([tokenizer.encode(\"Ni bien ni mal\")]))"
   ],
   "metadata": {
    "collapsed": false,
    "ExecuteTime": {
     "end_time": "2023-07-31T17:07:16.576511Z",
     "start_time": "2023-07-31T17:07:16.482817Z"
    }
   }
  },
  {
   "cell_type": "code",
   "execution_count": 50,
   "outputs": [
    {
     "name": "stdout",
     "output_type": "stream",
     "text": [
      "1/1 [==============================] - 0s 31ms/step\n",
      "Sentimiento negativo\n"
     ]
    }
   ],
   "source": [
    "predictions = model.predict(np.array([tokenizer.encode(\"Me siento muy mal\")]))\n",
    "prediction = np.argmax(predictions[0])\n",
    "\n",
    "if prediction == 0:\n",
    "    print(\"Sentimiento negativo\")\n",
    "elif prediction == 1:\n",
    "    print(\"Sentimiento positivo\")\n",
    "elif prediction == 2:\n",
    "    print(\"Sentimiento neutral\")\n",
    "else:\n",
    "    print(\"Sentimiento mixto\")"
   ],
   "metadata": {
    "collapsed": false,
    "ExecuteTime": {
     "end_time": "2023-07-31T17:18:25.598025Z",
     "start_time": "2023-07-31T17:18:25.515159Z"
    }
   }
  },
  {
   "cell_type": "code",
   "execution_count": null,
   "outputs": [],
   "source": [],
   "metadata": {
    "collapsed": false
   }
  }
 ],
 "metadata": {
  "kernelspec": {
   "display_name": "Python 3",
   "language": "python",
   "name": "python3"
  },
  "language_info": {
   "codemirror_mode": {
    "name": "ipython",
    "version": 2
   },
   "file_extension": ".py",
   "mimetype": "text/x-python",
   "name": "python",
   "nbconvert_exporter": "python",
   "pygments_lexer": "ipython2",
   "version": "2.7.6"
  }
 },
 "nbformat": 4,
 "nbformat_minor": 0
}
