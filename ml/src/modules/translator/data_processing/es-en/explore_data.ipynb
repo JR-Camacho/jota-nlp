{
 "cells": [
  {
   "cell_type": "markdown",
   "metadata": {},
   "source": [
    "Explore data"
   ]
  },
  {
   "cell_type": "code",
   "execution_count": 1,
   "metadata": {
    "ExecuteTime": {
     "end_time": "2023-08-01T20:49:37.244408Z",
     "start_time": "2023-08-01T20:49:34.689339Z"
    }
   },
   "outputs": [],
   "source": [
    "#Libraries\n",
    "import pandas as pd\n",
    "from pickle import load"
   ]
  },
  {
   "cell_type": "code",
   "execution_count": 2,
   "metadata": {
    "ExecuteTime": {
     "end_time": "2023-08-01T20:49:39.102531Z",
     "start_time": "2023-08-01T20:49:37.266014Z"
    }
   },
   "outputs": [],
   "source": [
    "#Load the data\n",
    "\n",
    "#data\n",
    "txt_data = pd.read_csv(\n",
    "    \"../../../../../data/raw/translator-data/en-es/spa.txt\",\n",
    "    header=None,\n",
    "    engine=\"python\",\n",
    "    sep=\"  \"\n",
    ")\n",
    "\n",
    "pkl_data = load(open(\"../../../../../data/raw/translator-data/en-es/english-spanish.pkl\", 'rb'))\n",
    "\n",
    "data = pd.DataFrame(pkl_data, columns=['english', 'spanish'])"
   ]
  },
  {
   "cell_type": "code",
   "execution_count": 3,
   "outputs": [
    {
     "data": {
      "text/plain": "                                                        0\n0       Go.\\tVe.\\tCC-BY 2.0 (France) Attribution: tato...\n1       Go.\\tVete.\\tCC-BY 2.0 (France) Attribution: ta...\n2       Go.\\tVaya.\\tCC-BY 2.0 (France) Attribution: ta...\n3       Go.\\tVáyase.\\tCC-BY 2.0 (France) Attribution: ...\n4       Hi.\\tHola.\\tCC-BY 2.0 (France) Attribution: ta...\n...                                                   ...\n140863  A carbon footprint is the amount of carbon dio...\n140864  Since there are usually multiple websites on a...\n140865  If you want to sound like a native speaker, yo...\n140866  It may be impossible to get a completely error...\n140867  One day, I woke up to find that God had put ha...\n\n[140868 rows x 1 columns]",
      "text/html": "<div>\n<style scoped>\n    .dataframe tbody tr th:only-of-type {\n        vertical-align: middle;\n    }\n\n    .dataframe tbody tr th {\n        vertical-align: top;\n    }\n\n    .dataframe thead th {\n        text-align: right;\n    }\n</style>\n<table border=\"1\" class=\"dataframe\">\n  <thead>\n    <tr style=\"text-align: right;\">\n      <th></th>\n      <th>0</th>\n    </tr>\n  </thead>\n  <tbody>\n    <tr>\n      <th>0</th>\n      <td>Go.\\tVe.\\tCC-BY 2.0 (France) Attribution: tato...</td>\n    </tr>\n    <tr>\n      <th>1</th>\n      <td>Go.\\tVete.\\tCC-BY 2.0 (France) Attribution: ta...</td>\n    </tr>\n    <tr>\n      <th>2</th>\n      <td>Go.\\tVaya.\\tCC-BY 2.0 (France) Attribution: ta...</td>\n    </tr>\n    <tr>\n      <th>3</th>\n      <td>Go.\\tVáyase.\\tCC-BY 2.0 (France) Attribution: ...</td>\n    </tr>\n    <tr>\n      <th>4</th>\n      <td>Hi.\\tHola.\\tCC-BY 2.0 (France) Attribution: ta...</td>\n    </tr>\n    <tr>\n      <th>...</th>\n      <td>...</td>\n    </tr>\n    <tr>\n      <th>140863</th>\n      <td>A carbon footprint is the amount of carbon dio...</td>\n    </tr>\n    <tr>\n      <th>140864</th>\n      <td>Since there are usually multiple websites on a...</td>\n    </tr>\n    <tr>\n      <th>140865</th>\n      <td>If you want to sound like a native speaker, yo...</td>\n    </tr>\n    <tr>\n      <th>140866</th>\n      <td>It may be impossible to get a completely error...</td>\n    </tr>\n    <tr>\n      <th>140867</th>\n      <td>One day, I woke up to find that God had put ha...</td>\n    </tr>\n  </tbody>\n</table>\n<p>140868 rows × 1 columns</p>\n</div>"
     },
     "execution_count": 3,
     "metadata": {},
     "output_type": "execute_result"
    }
   ],
   "source": [
    "txt_data"
   ],
   "metadata": {
    "collapsed": false,
    "ExecuteTime": {
     "end_time": "2023-08-01T20:49:39.993765Z",
     "start_time": "2023-08-01T20:49:39.906087Z"
    }
   }
  },
  {
   "cell_type": "code",
   "execution_count": 4,
   "metadata": {
    "ExecuteTime": {
     "end_time": "2023-08-01T20:49:43.066902Z",
     "start_time": "2023-08-01T20:49:43.053155Z"
    }
   },
   "outputs": [
    {
     "data": {
      "text/plain": "  english spanish\n0      go      ve\n1      go    vete\n2      go    vaya\n3      go  vayase\n4      hi    hola",
      "text/html": "<div>\n<style scoped>\n    .dataframe tbody tr th:only-of-type {\n        vertical-align: middle;\n    }\n\n    .dataframe tbody tr th {\n        vertical-align: top;\n    }\n\n    .dataframe thead th {\n        text-align: right;\n    }\n</style>\n<table border=\"1\" class=\"dataframe\">\n  <thead>\n    <tr style=\"text-align: right;\">\n      <th></th>\n      <th>english</th>\n      <th>spanish</th>\n    </tr>\n  </thead>\n  <tbody>\n    <tr>\n      <th>0</th>\n      <td>go</td>\n      <td>ve</td>\n    </tr>\n    <tr>\n      <th>1</th>\n      <td>go</td>\n      <td>vete</td>\n    </tr>\n    <tr>\n      <th>2</th>\n      <td>go</td>\n      <td>vaya</td>\n    </tr>\n    <tr>\n      <th>3</th>\n      <td>go</td>\n      <td>vayase</td>\n    </tr>\n    <tr>\n      <th>4</th>\n      <td>hi</td>\n      <td>hola</td>\n    </tr>\n  </tbody>\n</table>\n</div>"
     },
     "execution_count": 4,
     "metadata": {},
     "output_type": "execute_result"
    }
   ],
   "source": [
    "data.head()"
   ]
  },
  {
   "cell_type": "code",
   "execution_count": 5,
   "metadata": {
    "ExecuteTime": {
     "end_time": "2023-08-01T20:49:52.450630Z",
     "start_time": "2023-08-01T20:49:52.440333Z"
    }
   },
   "outputs": [
    {
     "name": "stdout",
     "output_type": "stream",
     "text": [
      "Data length 124325\n"
     ]
    }
   ],
   "source": [
    "print('Data length', len(data))"
   ]
  },
  {
   "cell_type": "code",
   "execution_count": null,
   "metadata": {},
   "outputs": [],
   "source": []
  }
 ],
 "metadata": {
  "kernelspec": {
   "display_name": "venv",
   "language": "python",
   "name": "python3"
  },
  "language_info": {
   "codemirror_mode": {
    "name": "ipython",
    "version": 3
   },
   "file_extension": ".py",
   "mimetype": "text/x-python",
   "name": "python",
   "nbconvert_exporter": "python",
   "pygments_lexer": "ipython3",
   "version": "3.11.4"
  },
  "orig_nbformat": 4
 },
 "nbformat": 4,
 "nbformat_minor": 2
}
