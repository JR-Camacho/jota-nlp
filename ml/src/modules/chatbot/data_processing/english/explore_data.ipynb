{
 "cells": [
  {
   "cell_type": "markdown",
   "metadata": {},
   "source": [
    "Explore data"
   ]
  },
  {
   "cell_type": "code",
   "execution_count": 1,
   "metadata": {
    "ExecuteTime": {
     "end_time": "2023-09-26T02:58:14.634936Z",
     "start_time": "2023-09-26T02:58:02.856903Z"
    }
   },
   "outputs": [],
   "source": [
    "#Libraries\n",
    "import pandas as pd\n",
    "from pickle import load"
   ]
  },
  {
   "cell_type": "code",
   "execution_count": 2,
   "metadata": {
    "ExecuteTime": {
     "end_time": "2023-09-26T02:59:05.050962Z",
     "start_time": "2023-09-26T02:59:05.035383Z"
    }
   },
   "outputs": [],
   "source": [
    "#Load the data\n",
    "\n",
    "#data\n",
    "txt_data = pd.read_csv(\n",
    "    \"../../../../../data/raw/chatbot/dialogs.txt\",\n",
    "    header=None,\n",
    "    engine=\"python\",\n",
    "    sep=\"  \"\n",
    ")"
   ]
  },
  {
   "cell_type": "code",
   "execution_count": 3,
   "outputs": [
    {
     "data": {
      "text/plain": "                                                      0\n0     hi, how are you doing?\\ti'm fine. how about yo...\n1     i'm fine. how about yourself?\\ti'm pretty good...\n2     i'm pretty good. thanks for asking.\\tno proble...\n3     no problem. so how have you been?\\ti've been g...\n4     i've been great. what about you?\\ti've been go...\n...                                                 ...\n3720  that's a good question. maybe it's not old age...\n3721           are you right-handed?\\tyes. all my life.\n3722  yes. all my life.\\tyou're wearing out your rig...\n3723  you're wearing out your right hand. stop using...\n3724  but i do all my writing with my right hand.\\ts...\n\n[3725 rows x 1 columns]",
      "text/html": "<div>\n<style scoped>\n    .dataframe tbody tr th:only-of-type {\n        vertical-align: middle;\n    }\n\n    .dataframe tbody tr th {\n        vertical-align: top;\n    }\n\n    .dataframe thead th {\n        text-align: right;\n    }\n</style>\n<table border=\"1\" class=\"dataframe\">\n  <thead>\n    <tr style=\"text-align: right;\">\n      <th></th>\n      <th>0</th>\n    </tr>\n  </thead>\n  <tbody>\n    <tr>\n      <th>0</th>\n      <td>hi, how are you doing?\\ti'm fine. how about yo...</td>\n    </tr>\n    <tr>\n      <th>1</th>\n      <td>i'm fine. how about yourself?\\ti'm pretty good...</td>\n    </tr>\n    <tr>\n      <th>2</th>\n      <td>i'm pretty good. thanks for asking.\\tno proble...</td>\n    </tr>\n    <tr>\n      <th>3</th>\n      <td>no problem. so how have you been?\\ti've been g...</td>\n    </tr>\n    <tr>\n      <th>4</th>\n      <td>i've been great. what about you?\\ti've been go...</td>\n    </tr>\n    <tr>\n      <th>...</th>\n      <td>...</td>\n    </tr>\n    <tr>\n      <th>3720</th>\n      <td>that's a good question. maybe it's not old age...</td>\n    </tr>\n    <tr>\n      <th>3721</th>\n      <td>are you right-handed?\\tyes. all my life.</td>\n    </tr>\n    <tr>\n      <th>3722</th>\n      <td>yes. all my life.\\tyou're wearing out your rig...</td>\n    </tr>\n    <tr>\n      <th>3723</th>\n      <td>you're wearing out your right hand. stop using...</td>\n    </tr>\n    <tr>\n      <th>3724</th>\n      <td>but i do all my writing with my right hand.\\ts...</td>\n    </tr>\n  </tbody>\n</table>\n<p>3725 rows × 1 columns</p>\n</div>"
     },
     "execution_count": 3,
     "metadata": {},
     "output_type": "execute_result"
    }
   ],
   "source": [
    "txt_data"
   ],
   "metadata": {
    "collapsed": false,
    "ExecuteTime": {
     "end_time": "2023-09-26T02:59:05.808782Z",
     "start_time": "2023-09-26T02:59:05.651586Z"
    }
   }
  },
  {
   "cell_type": "code",
   "execution_count": 4,
   "metadata": {
    "ExecuteTime": {
     "end_time": "2023-09-26T02:59:21.314092Z",
     "start_time": "2023-09-26T02:59:21.303449Z"
    }
   },
   "outputs": [
    {
     "name": "stdout",
     "output_type": "stream",
     "text": [
      "Data length 3725\n"
     ]
    }
   ],
   "source": [
    "print('Data length', len(txt_data))"
   ]
  },
  {
   "cell_type": "code",
   "execution_count": null,
   "metadata": {},
   "outputs": [],
   "source": []
  }
 ],
 "metadata": {
  "kernelspec": {
   "display_name": "venv",
   "language": "python",
   "name": "python3"
  },
  "language_info": {
   "codemirror_mode": {
    "name": "ipython",
    "version": 3
   },
   "file_extension": ".py",
   "mimetype": "text/x-python",
   "name": "python",
   "nbconvert_exporter": "python",
   "pygments_lexer": "ipython3",
   "version": "3.11.4"
  },
  "orig_nbformat": 4
 },
 "nbformat": 4,
 "nbformat_minor": 2
}
